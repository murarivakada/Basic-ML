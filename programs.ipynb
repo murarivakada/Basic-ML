{
  "nbformat": 4,
  "nbformat_minor": 0,
  "metadata": {
    "colab": {
      "name": "programs.ipynb",
      "provenance": [],
      "authorship_tag": "ABX9TyOBNM3Jwq67IcEiqaXHOwj7",
      "include_colab_link": true
    },
    "kernelspec": {
      "name": "python3",
      "display_name": "Python 3"
    },
    "language_info": {
      "name": "python"
    }
  },
  "cells": [
    {
      "cell_type": "markdown",
      "metadata": {
        "id": "view-in-github",
        "colab_type": "text"
      },
      "source": [
        "<a href=\"https://colab.research.google.com/github/murarivakada/Basic-ML/blob/main/programs.ipynb\" target=\"_parent\"><img src=\"https://colab.research.google.com/assets/colab-badge.svg\" alt=\"Open In Colab\"/></a>"
      ]
    },
    {
      "cell_type": "markdown",
      "metadata": {
        "id": "wiCFjPvUjwTu"
      },
      "source": [
        "# python programs"
      ]
    },
    {
      "cell_type": "markdown",
      "metadata": {
        "id": "c2dHBYygj3sV"
      },
      "source": [
        "1.) Python Program to Display Fibonacci Sequence Using Recursion\n"
      ]
    },
    {
      "cell_type": "code",
      "metadata": {
        "id": "EGr8Le3JmLIg"
      },
      "source": [
        "# Python program to display the Fibonacci sequence\n",
        "\n",
        "def recur_fibo(n):\n",
        "   if n <= 1:\n",
        "       return n\n",
        "   else:\n",
        "       return(recur_fibo(n-1) + recur_fibo(n-2))\n",
        "\n",
        "nterms = 10\n",
        "\n",
        "# check if the number of terms is valid\n",
        "if nterms <= 0:\n",
        "   print(\"Plese enter a positive integer\")\n",
        "else:\n",
        "   print(\"Fibonacci sequence:\")\n",
        "   for i in range(nterms):\n",
        "       print(recur_fibo(i))\n"
      ],
      "execution_count": null,
      "outputs": []
    },
    {
      "cell_type": "markdown",
      "metadata": {
        "id": "OwETRP9Ymze3"
      },
      "source": [
        "2.Python Program to Sort Words in Alphabetic Order"
      ]
    },
    {
      "cell_type": "code",
      "metadata": {
        "id": "jA28UJr2m1_8"
      },
      "source": [
        "# Program to sort alphabetically the words form a string provided by the user\n",
        "\n",
        "my_str = \"Hello this Is an Example With cased letters\"\n",
        "words = [word.lower() for word in my_str.split()]\n",
        "\n",
        "# sort the list\n",
        "words.sort()\n",
        "\n",
        "# display the sorted words\n",
        "\n",
        "print(\"The sorted words are:\")\n",
        "for word in words:\n",
        "   print(word)\n"
      ],
      "execution_count": null,
      "outputs": []
    },
    {
      "cell_type": "markdown",
      "metadata": {
        "id": "TC4VhdR8ndVB"
      },
      "source": [
        "3.Python Program to Reverse a Number\n"
      ]
    },
    {
      "cell_type": "code",
      "metadata": {
        "id": "3xrjRczAnfV5"
      },
      "source": [
        "num = int(input())\n",
        "reversed_num = 0\n",
        "\n",
        "while num != 0:\n",
        "    digit = num % 10\n",
        "    reversed_num = reversed_num * 10 + digit\n",
        "    num //= 10\n",
        "\n",
        "print(\"Reversed Number: \" + str(reversed_num))"
      ],
      "execution_count": null,
      "outputs": []
    }
  ]
}